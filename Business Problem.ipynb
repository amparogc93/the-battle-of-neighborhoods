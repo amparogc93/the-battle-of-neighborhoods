{
    "cells": [
        {
            "cell_type": "markdown",
            "metadata": {
                "collapsed": true
            },
            "source": "# Business Problem"
        },
        {
            "cell_type": "markdown",
            "metadata": {},
            "source": "#### 1.1 Background\nBarcelona, spain, althought it is not the capital, it is in the top 10 most visited cities in the world. This makes the city a really goos opportunity to open new business.\nThe city is charming because different neighborhood's styles that can be found, as different types of retaurants and stores in general depending of the neighborhood."
        },
        {
            "cell_type": "markdown",
            "metadata": {},
            "source": "#### 1.2 Problem\nData might contibute to determine which types of business are opened in the different city's neigborhoods in order to decided where would be eassy to open a business and be successful. The neighborhoods that have similar venues are group in the same cluster. Thus we can compared neigborhoods. "
        },
        {
            "cell_type": "markdown",
            "metadata": {},
            "source": "#### 1.3 Interest\nThis project aims to predict which is the best neigbourghood to open a determined business. As the neighborhoods are group by similar venues types, if you want to open a new business first you can check which neighbourhoods have similar business. \nIf you don't mind competition you can open a business similar to the ones already in the neighborhood you choose. If you want to open a new type of business, you can choose where to open choosing a neighborhood that doesn't have that type of business."
        }
    ],
    "metadata": {
        "kernelspec": {
            "display_name": "Python 3.6",
            "language": "python",
            "name": "python3"
        },
        "language_info": {
            "codemirror_mode": {
                "name": "ipython",
                "version": 3
            },
            "file_extension": ".py",
            "mimetype": "text/x-python",
            "name": "python",
            "nbconvert_exporter": "python",
            "pygments_lexer": "ipython3",
            "version": "3.6.9"
        }
    },
    "nbformat": 4,
    "nbformat_minor": 1
}