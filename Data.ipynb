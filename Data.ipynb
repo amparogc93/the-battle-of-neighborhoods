{
    "cells": [
        {
            "metadata": {
                "collapsed": true
            },
            "cell_type": "markdown",
            "source": "# Data"
        },
        {
            "metadata": {},
            "cell_type": "markdown",
            "source": "A description of the data and how it will be used to solve the problem"
        },
        {
            "metadata": {},
            "cell_type": "markdown",
            "source": "#### 2.1 Data sources\nThe data source choosen was 'List of restaurant equipments in the city of Barcelona' from Open Data Ajuntament Barcelona https://opendata-ajuntament.barcelona.cat/data/en/dataset/equipament-restaurants, it contains types of Restaurants to be found in Barcelona.\nThis data source contains the neighborhood code, the neighborhood name, the distric code, the distric name and the postal code. It is very useful to locate all the different neigbourhoods. Barcelona has 73 neighboorhoods and within 10 districs.\n\nThe geospatinal data for the neighborhoods has been obtain using the geocoder library https://geocoder.readthedocs.io/\nAnd the Barcelona's venues information has been obtain from the explore end point of Foursquare API https://developer.foursquare.com/docs/venues/explore."
        },
        {
            "metadata": {},
            "cell_type": "markdown",
            "source": "#### 2.2 Data cleaning\nData downloaded or scraped from multiple sources were combined into one table. There weren't missing values.\nFrom the 'List of restaurant equipments in the city of Barcelona' only the columns: neighborhood code, the neighborhood name, the distric code and the distric name where selected and changed their names. From that dataframe one neighborhood's name was change to the correct one.\nFurthermore the neighborhoods dataframe was combined into one table with the geospatial coordinates obtained with geocoder.\n\nAfterwards the foursquare API was called to obtain all the information related to the venues from each neighborhood in a 500 radio and converted in a new dataframe. In this new data frame, the neighborhood data frame with the coordinates is combined with the data from Foursquare, having the data frame the follong features: Neighborhood name, neighborhood latitude, neighborhood longitude, venue name, venue latitude, venue longitude and venue category."
        },
        {
            "metadata": {},
            "cell_type": "markdown",
            "source": "#### 2.3 Feature selection\nAfter data cleaning, there were 13,378 samples and 49 features in the data. Upon examining the\nmeaning of each feature, it was clear that there was some redundancy in the features. For\nexample, there was a feature of the number of rebounds a player collected, and another feature of\nthe rate of rebounds he collected. These two features contained very similar information (a\nplayer\u2019s ability to rebound), with the difference being that the former feature increased with\nplaying time, while the latter feature did not. Such total vs. rate relationship also existed between\nother features. These features are problematic for two reasons: (1) A player\u2019s certain abilities\nwere duplicated in two features. (2) A player\u2019s playing time were duplicated in multiple features.\nIn order to fix this, I decided to keep all features that were rates in nature, and drop their\ncumulative counterparts (Table 1).\nThere were also other redundancies, such as that total rebounds are the sum of offensive\nrebounds and defensive rebounds. For features that can be calculated by sum of other features, I\ndecided to drop them (Table 1).\nAfter discarding redundant features, I inspected the correlation of independent variables,\nand found several pairs that were highly correlated (Pearson correlation coefficient > 0.9). For\nexample, shots attempted, shots made, and points scored were highly correlated. This makes\nsense, after all, you score points by making shots. From these highly correlated features, only\none was kept, others were dropped from the dataset. After all, 24 features were selected."
        }
    ],
    "metadata": {
        "kernelspec": {
            "name": "python3",
            "display_name": "Python 3.6",
            "language": "python"
        },
        "language_info": {
            "name": "python",
            "version": "3.6.9",
            "mimetype": "text/x-python",
            "codemirror_mode": {
                "name": "ipython",
                "version": 3
            },
            "pygments_lexer": "ipython3",
            "nbconvert_exporter": "python",
            "file_extension": ".py"
        }
    },
    "nbformat": 4,
    "nbformat_minor": 1
}