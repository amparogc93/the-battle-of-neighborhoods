{
    "cells": [
        {
            "cell_type": "markdown",
            "metadata": {
                "collapsed": true
            },
            "source": "# Data"
        },
        {
            "cell_type": "markdown",
            "metadata": {},
            "source": "#### 2.1 Data sources\nThe data source choosen was 'List of restaurant equipments in the city of Barcelona' from Open Data Ajuntament Barcelona https://opendata-ajuntament.barcelona.cat/data/en/dataset/equipament-restaurants, it contains types of Restaurants to be found in Barcelona.\nThis data source contains the neighborhood code, the neighborhood name, the distric code, the distric name and the postal code. It is very useful to locate all the different neigbourhoods. Barcelona has 73 neighboorhoods and within 10 districs.\n\nThe geospatinal data for the neighborhoods has been obtain using the geocoder library https://geocoder.readthedocs.io/\nAnd the Barcelona's venues information has been obtain from the explore end point of Foursquare API https://developer.foursquare.com/docs/venues/explore."
        },
        {
            "cell_type": "markdown",
            "metadata": {},
            "source": "#### 2.2 Data cleaning\nData downloaded or scraped from multiple sources were combined into one table. There weren't missing values.\nFrom the 'List of restaurant equipments in the city of Barcelona' only the columns: neighborhood code, the neighborhood name, the distric code and the distric name where selected and changed their names. From that dataframe one neighborhood's name was change to the correct one.\nFurthermore the neighborhoods dataframe was combined into one table with the geospatial coordinates obtained with geocoder.\n\nAfterwards the foursquare API was called to obtain all the information related to the venues from each neighborhood in a 500 radio and converted in a new dataframe. In this new dataframe, the neighborhood dataframe with the coordinates is combined with the data from Foursquare, having the data frame the follong features: Neighborhood name, neighborhood latitude, neighborhood longitude, venue name, venue latitude, venue longitude and venue category.\n\nFinally, the venues categories where transformed from categorical to binary variables. Adding more features to the dataframe."
        },
        {
            "cell_type": "markdown",
            "metadata": {},
            "source": "#### 2.3 Feature selection\nAfter data cleaning, there were 2824 samples and 267 features in the data. Upon examining the meaning of each feature, it was clear that some of them couldn't be considered as a type of businness a person could open. For example, there was a feature of the number museums, and another feature of the number of parks. These two features are not venues that a person can open as they belong to the city administration. Others were redudant as it was the same category as stadium and football stadium.\n\nAfter feature selection, there were 2824 samples and 163 features in the data. The selected features are types of restaurants and some types of businnes, that are easy to open by a person."
        }
    ],
    "metadata": {
        "kernelspec": {
            "display_name": "Python 3.6",
            "language": "python",
            "name": "python3"
        },
        "language_info": {
            "codemirror_mode": {
                "name": "ipython",
                "version": 3
            },
            "file_extension": ".py",
            "mimetype": "text/x-python",
            "name": "python",
            "nbconvert_exporter": "python",
            "pygments_lexer": "ipython3",
            "version": "3.6.9"
        }
    },
    "nbformat": 4,
    "nbformat_minor": 1
}